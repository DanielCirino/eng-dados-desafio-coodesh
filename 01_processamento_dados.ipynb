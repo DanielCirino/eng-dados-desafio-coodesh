{
 "cells": [
  {
   "cell_type": "markdown",
   "id": "2ef0b95d-179c-4207-abd8-3810ebe1529c",
   "metadata": {},
   "source": [
    "# Desafio Coodesh - Análise e Processamento dos Dados\n",
    "Análise e transformação dos dados utilizando Python e Pandas"
   ]
  },
  {
   "cell_type": "code",
   "execution_count": 1,
   "id": "4d52d342-dbb4-402d-8ce4-8be7af077a40",
   "metadata": {},
   "outputs": [],
   "source": [
    "from datetime import datetime\n",
    "import pandas as pd"
   ]
  },
  {
   "cell_type": "markdown",
   "id": "00e70067-cedc-4a97-95bf-26d8b95a48f6",
   "metadata": {},
   "source": [
    "## Atributos dos datasets"
   ]
  },
  {
   "cell_type": "code",
   "execution_count": 2,
   "id": "bd236ee8-0e48-464b-aab4-88ba4f87847f",
   "metadata": {},
   "outputs": [
    {
     "data": {
      "text/html": [
       "<div>\n",
       "<style scoped>\n",
       "    .dataframe tbody tr th:only-of-type {\n",
       "        vertical-align: middle;\n",
       "    }\n",
       "\n",
       "    .dataframe tbody tr th {\n",
       "        vertical-align: top;\n",
       "    }\n",
       "\n",
       "    .dataframe thead th {\n",
       "        text-align: right;\n",
       "    }\n",
       "</style>\n",
       "<table border=\"1\" class=\"dataframe\">\n",
       "  <thead>\n",
       "    <tr style=\"text-align: right;\">\n",
       "      <th></th>\n",
       "      <th>seq</th>\n",
       "      <th>name</th>\n",
       "      <th>description</th>\n",
       "    </tr>\n",
       "  </thead>\n",
       "  <tbody>\n",
       "    <tr>\n",
       "      <th>0</th>\n",
       "      <td>1</td>\n",
       "      <td>show_id</td>\n",
       "      <td>Unique ID for every Movie / Tv Show</td>\n",
       "    </tr>\n",
       "    <tr>\n",
       "      <th>1</th>\n",
       "      <td>2</td>\n",
       "      <td>type</td>\n",
       "      <td>Identifier - A Movie or TV Show</td>\n",
       "    </tr>\n",
       "    <tr>\n",
       "      <th>2</th>\n",
       "      <td>3</td>\n",
       "      <td>title</td>\n",
       "      <td>Title of the Movie / Tv Show</td>\n",
       "    </tr>\n",
       "    <tr>\n",
       "      <th>3</th>\n",
       "      <td>4</td>\n",
       "      <td>director</td>\n",
       "      <td>Director of the Movie</td>\n",
       "    </tr>\n",
       "    <tr>\n",
       "      <th>4</th>\n",
       "      <td>5</td>\n",
       "      <td>cast</td>\n",
       "      <td>Actors involved in the movie / show</td>\n",
       "    </tr>\n",
       "    <tr>\n",
       "      <th>5</th>\n",
       "      <td>6</td>\n",
       "      <td>country</td>\n",
       "      <td>Country where the movie / show was produced</td>\n",
       "    </tr>\n",
       "    <tr>\n",
       "      <th>6</th>\n",
       "      <td>7</td>\n",
       "      <td>data_added</td>\n",
       "      <td>Date it was added on Netflix or Amazon Prime</td>\n",
       "    </tr>\n",
       "    <tr>\n",
       "      <th>7</th>\n",
       "      <td>8</td>\n",
       "      <td>release_year</td>\n",
       "      <td>Actual Release year of the move / show</td>\n",
       "    </tr>\n",
       "    <tr>\n",
       "      <th>8</th>\n",
       "      <td>9</td>\n",
       "      <td>rating</td>\n",
       "      <td>TV Rating of the movie / show</td>\n",
       "    </tr>\n",
       "    <tr>\n",
       "      <th>9</th>\n",
       "      <td>10</td>\n",
       "      <td>duration</td>\n",
       "      <td>Total Duration - in minutes or number of seasons</td>\n",
       "    </tr>\n",
       "    <tr>\n",
       "      <th>10</th>\n",
       "      <td>11</td>\n",
       "      <td>listed_in *</td>\n",
       "      <td>Categoies that movie/show was listed</td>\n",
       "    </tr>\n",
       "    <tr>\n",
       "      <th>11</th>\n",
       "      <td>12</td>\n",
       "      <td>description *</td>\n",
       "      <td>Resumo of movie/show</td>\n",
       "    </tr>\n",
       "  </tbody>\n",
       "</table>\n",
       "</div>"
      ],
      "text/plain": [
       "    seq           name                                       description\n",
       "0     1        show_id               Unique ID for every Movie / Tv Show\n",
       "1     2           type                   Identifier - A Movie or TV Show\n",
       "2     3          title                      Title of the Movie / Tv Show\n",
       "3     4       director                             Director of the Movie\n",
       "4     5           cast               Actors involved in the movie / show\n",
       "5     6        country       Country where the movie / show was produced\n",
       "6     7     data_added     Date it was added on Netflix or Amazon Prime \n",
       "7     8   release_year            Actual Release year of the move / show\n",
       "8     9         rating                    TV Rating of the movie / show \n",
       "9    10       duration  Total Duration - in minutes or number of seasons\n",
       "10   11    listed_in *              Categoies that movie/show was listed\n",
       "11   12  description *                              Resumo of movie/show"
      ]
     },
     "execution_count": 2,
     "metadata": {},
     "output_type": "execute_result"
    }
   ],
   "source": [
    "dfAtributos = pd.read_csv(\"./analytics/dataset_info.csv\")\n",
    "dfAtributos"
   ]
  },
  {
   "cell_type": "markdown",
   "id": "853a354f-a36e-419d-9de9-8776b7c9bc37",
   "metadata": {},
   "source": [
    "(*) Ao comparar o arquivo attributes.txt com o dataset de filmes, foi possível identificar que faltavam colunas no arquivo de atributos. Foi feita a identificação dos campos e atualizada a documentação."
   ]
  },
  {
   "cell_type": "markdown",
   "id": "793dc93b-63f3-44a9-9332-7b913bd70d4c",
   "metadata": {},
   "source": [
    "## Carregar os arquivos"
   ]
  },
  {
   "cell_type": "code",
   "execution_count": 3,
   "id": "ab97d5de-a246-446c-9343-1095472dff1f",
   "metadata": {},
   "outputs": [
    {
     "name": "stdout",
     "output_type": "stream",
     "text": [
      "<class 'pandas.core.frame.DataFrame'>\n",
      "RangeIndex: 8807 entries, 0 to 8806\n",
      "Data columns (total 12 columns):\n",
      " #   Column        Non-Null Count  Dtype \n",
      "---  ------        --------------  ----- \n",
      " 0   show_id       8807 non-null   object\n",
      " 1   type          8807 non-null   object\n",
      " 2   title         8807 non-null   object\n",
      " 3   director      6173 non-null   object\n",
      " 4   cast          7982 non-null   object\n",
      " 5   country       7976 non-null   object\n",
      " 6   date_added    8797 non-null   object\n",
      " 7   release_year  8807 non-null   int64 \n",
      " 8   rating        8803 non-null   object\n",
      " 9   duration      8804 non-null   object\n",
      " 10  listed_in     8807 non-null   object\n",
      " 11  description   8807 non-null   object\n",
      "dtypes: int64(1), object(11)\n",
      "memory usage: 825.8+ KB\n"
     ]
    }
   ],
   "source": [
    "dfFilmesNetflix = pd.read_csv(\"./data/netflix_titles.csv\")\n",
    "dfFilmesNetflix.info()"
   ]
  },
  {
   "cell_type": "code",
   "execution_count": 4,
   "id": "5a47fdf8-c559-4441-ac84-f76b3aa92cbb",
   "metadata": {},
   "outputs": [
    {
     "name": "stdout",
     "output_type": "stream",
     "text": [
      "<class 'pandas.core.frame.DataFrame'>\n",
      "RangeIndex: 9668 entries, 0 to 9667\n",
      "Data columns (total 12 columns):\n",
      " #   Column        Non-Null Count  Dtype \n",
      "---  ------        --------------  ----- \n",
      " 0   show_id       9668 non-null   object\n",
      " 1   type          9668 non-null   object\n",
      " 2   title         9668 non-null   object\n",
      " 3   director      7585 non-null   object\n",
      " 4   cast          8435 non-null   object\n",
      " 5   country       672 non-null    object\n",
      " 6   date_added    155 non-null    object\n",
      " 7   release_year  9668 non-null   int64 \n",
      " 8   rating        9331 non-null   object\n",
      " 9   duration      9668 non-null   object\n",
      " 10  listed_in     9668 non-null   object\n",
      " 11  description   9668 non-null   object\n",
      "dtypes: int64(1), object(11)\n",
      "memory usage: 906.5+ KB\n"
     ]
    }
   ],
   "source": [
    "dfFilmesAmazon = pd.read_csv(\"./data/amazon_prime_titles.csv\")\n",
    "dfFilmesAmazon.info()"
   ]
  },
  {
   "cell_type": "markdown",
   "id": "db8a27f1-2e6a-4053-a9ed-255e11b1f1cf",
   "metadata": {},
   "source": [
    "# Gerar um dataset unificado de filmes das duas plataformas"
   ]
  },
  {
   "cell_type": "code",
   "execution_count": 5,
   "id": "3157c5db-00ea-4678-ad9c-5f5d8c69fad8",
   "metadata": {},
   "outputs": [
    {
     "name": "stdout",
     "output_type": "stream",
     "text": [
      "<class 'pandas.core.frame.DataFrame'>\n",
      "RangeIndex: 8807 entries, 0 to 8806\n",
      "Data columns (total 14 columns):\n",
      " #   Column        Non-Null Count  Dtype \n",
      "---  ------        --------------  ----- \n",
      " 0   show_id       8807 non-null   object\n",
      " 1   type          8807 non-null   object\n",
      " 2   title         8807 non-null   object\n",
      " 3   director      6173 non-null   object\n",
      " 4   cast          7982 non-null   object\n",
      " 5   country       7976 non-null   object\n",
      " 6   date_added    8797 non-null   object\n",
      " 7   release_year  8807 non-null   int64 \n",
      " 8   rating        8803 non-null   object\n",
      " 9   duration      8804 non-null   object\n",
      " 10  listed_in     8807 non-null   object\n",
      " 11  description   8807 non-null   object\n",
      " 12  title_id      8807 non-null   object\n",
      " 13  platform      8807 non-null   object\n",
      "dtypes: int64(1), object(13)\n",
      "memory usage: 963.4+ KB\n"
     ]
    }
   ],
   "source": [
    "# Como o campo show_id se repete em cada plataforma, \n",
    "# será necessário garantir que exista um código identificador único para cada dataset\n",
    "# Para não perder a referência da plataforma, é necessário criar uma coluna com esta informação em cada dataframe\n",
    "\n",
    "dfFilmesNetflix[\"title_id\"] = \"nfx_\" + dfFilmesNetflix[\"show_id\"]\n",
    "dfFilmesNetflix[\"platform\"] = \"netflix\"\n",
    "\n",
    "dfFilmesAmazon[\"title_id\"] = \"amz_\" + dfFilmesAmazon[\"show_id\"]\n",
    "dfFilmesAmazon[\"platform\"] = \"amazon_prime\" \n",
    "\n",
    "dfFilmesNetflix.info()"
   ]
  },
  {
   "cell_type": "code",
   "execution_count": 6,
   "id": "840300f2-abe8-4901-8721-da6043c2169c",
   "metadata": {},
   "outputs": [
    {
     "name": "stdout",
     "output_type": "stream",
     "text": [
      "<class 'pandas.core.frame.DataFrame'>\n",
      "RangeIndex: 9668 entries, 0 to 9667\n",
      "Data columns (total 14 columns):\n",
      " #   Column        Non-Null Count  Dtype \n",
      "---  ------        --------------  ----- \n",
      " 0   show_id       9668 non-null   object\n",
      " 1   type          9668 non-null   object\n",
      " 2   title         9668 non-null   object\n",
      " 3   director      7585 non-null   object\n",
      " 4   cast          8435 non-null   object\n",
      " 5   country       672 non-null    object\n",
      " 6   date_added    155 non-null    object\n",
      " 7   release_year  9668 non-null   int64 \n",
      " 8   rating        9331 non-null   object\n",
      " 9   duration      9668 non-null   object\n",
      " 10  listed_in     9668 non-null   object\n",
      " 11  description   9668 non-null   object\n",
      " 12  title_id      9668 non-null   object\n",
      " 13  platform      9668 non-null   object\n",
      "dtypes: int64(1), object(13)\n",
      "memory usage: 1.0+ MB\n"
     ]
    }
   ],
   "source": [
    "dfFilmesAmazon.info()"
   ]
  },
  {
   "cell_type": "markdown",
   "id": "d5be9edb-b845-441d-9fa4-74e4dca66f4b",
   "metadata": {},
   "source": [
    "### Criar base de filmes unificada, contendo os filmes das duas plataformas"
   ]
  },
  {
   "cell_type": "code",
   "execution_count": 7,
   "id": "06025110-6dbf-4c90-b08b-c2c66132495a",
   "metadata": {},
   "outputs": [
    {
     "name": "stdout",
     "output_type": "stream",
     "text": [
      "<class 'pandas.core.frame.DataFrame'>\n",
      "RangeIndex: 18475 entries, 0 to 18474\n",
      "Data columns (total 14 columns):\n",
      " #   Column        Non-Null Count  Dtype \n",
      "---  ------        --------------  ----- \n",
      " 0   show_id       18475 non-null  object\n",
      " 1   type          18475 non-null  object\n",
      " 2   title         18475 non-null  object\n",
      " 3   director      13758 non-null  object\n",
      " 4   cast          16417 non-null  object\n",
      " 5   country       8648 non-null   object\n",
      " 6   date_added    8952 non-null   object\n",
      " 7   release_year  18475 non-null  int64 \n",
      " 8   rating        18134 non-null  object\n",
      " 9   duration      18472 non-null  object\n",
      " 10  listed_in     18475 non-null  object\n",
      " 11  description   18475 non-null  object\n",
      " 12  title_id      18475 non-null  object\n",
      " 13  platform      18475 non-null  object\n",
      "dtypes: int64(1), object(13)\n",
      "memory usage: 2.0+ MB\n"
     ]
    }
   ],
   "source": [
    "dfFilmes = pd.concat([dfFilmesNetflix, dfFilmesAmazon],ignore_index=True)\n",
    "dfFilmes.info()"
   ]
  },
  {
   "cell_type": "markdown",
   "id": "8c0b47fe-f26b-4a4f-82b3-8584c7226419",
   "metadata": {},
   "source": [
    "## Fazer o processamento do dataset unificado\n",
    "\n",
    "Para modelagem dos dados, é necessário transformar as colunas que o conteúdo representa uma lista, em um arquivos de dados que conterá o relacionamento com o identificador do título.\n",
    "\n",
    "* director -> directors_title.csv\n",
    "* cast -> casting_title.csv\n",
    "* listed_in -> categories_title.csv\n",
    "* country -> countries_title.csv\n",
    "\n",
    "Para facilitar o trabalho com data, o campo date_added precisa ser convertido para o formato YYYY-MM-DD.<br>\n",
    "Uma vez que as colunas com conteúdo de lista foram extraídas, as mesmas não precisam compor o dataset de títulos."
   ]
  },
  {
   "cell_type": "markdown",
   "id": "4883844b-64e5-41cb-971b-2c6be70a3e87",
   "metadata": {},
   "source": [
    "### Avaliação de títulos duplicados"
   ]
  },
  {
   "cell_type": "code",
   "execution_count": 8,
   "id": "3fe154b0-07a2-4f61-aebd-591bd945015a",
   "metadata": {},
   "outputs": [
    {
     "name": "stdout",
     "output_type": "stream",
     "text": [
      "<class 'pandas.core.frame.DataFrame'>\n",
      "Index: 0 entries\n",
      "Data columns (total 14 columns):\n",
      " #   Column        Non-Null Count  Dtype \n",
      "---  ------        --------------  ----- \n",
      " 0   show_id       0 non-null      object\n",
      " 1   type          0 non-null      object\n",
      " 2   title         0 non-null      object\n",
      " 3   director      0 non-null      object\n",
      " 4   cast          0 non-null      object\n",
      " 5   country       0 non-null      object\n",
      " 6   date_added    0 non-null      object\n",
      " 7   release_year  0 non-null      int64 \n",
      " 8   rating        0 non-null      object\n",
      " 9   duration      0 non-null      object\n",
      " 10  listed_in     0 non-null      object\n",
      " 11  description   0 non-null      object\n",
      " 12  title_id      0 non-null      object\n",
      " 13  platform      0 non-null      object\n",
      "dtypes: int64(1), object(13)\n",
      "memory usage: 0.0+ bytes\n"
     ]
    }
   ],
   "source": [
    "dfFilmes[dfFilmes['title_id'].duplicated() == True].info()"
   ]
  },
  {
   "cell_type": "code",
   "execution_count": 9,
   "id": "9c4e4277-701e-40b3-8de8-2e34b46149ce",
   "metadata": {},
   "outputs": [],
   "source": [
    "# Função para extrair os valores dos campos que apresentam lista e relacionar ao id do título\n",
    "def extrairListaDeRelacionamento(df:pd.DataFrame, coluna:str, camposExtras=[]):\n",
    "    lista = []\n",
    "    for index,linha in df.iterrows():\n",
    "        if not pd.isna(linha[coluna]):\n",
    "            id = linha[\"title_id\"]\n",
    "            itens = str(linha[coluna]).split(\",\")\n",
    "            for item in itens:\n",
    "                lista.append([id,item.strip()])\n",
    "    return lista"
   ]
  },
  {
   "cell_type": "code",
   "execution_count": 10,
   "id": "0068193d-1e55-425c-bd0a-951d699b6fba",
   "metadata": {},
   "outputs": [
    {
     "data": {
      "text/html": [
       "<div>\n",
       "<style scoped>\n",
       "    .dataframe tbody tr th:only-of-type {\n",
       "        vertical-align: middle;\n",
       "    }\n",
       "\n",
       "    .dataframe tbody tr th {\n",
       "        vertical-align: top;\n",
       "    }\n",
       "\n",
       "    .dataframe thead th {\n",
       "        text-align: right;\n",
       "    }\n",
       "</style>\n",
       "<table border=\"1\" class=\"dataframe\">\n",
       "  <thead>\n",
       "    <tr style=\"text-align: right;\">\n",
       "      <th></th>\n",
       "      <th>title_id</th>\n",
       "      <th>director</th>\n",
       "    </tr>\n",
       "  </thead>\n",
       "  <tbody>\n",
       "    <tr>\n",
       "      <th>count</th>\n",
       "      <td>15212</td>\n",
       "      <td>15212</td>\n",
       "    </tr>\n",
       "    <tr>\n",
       "      <th>unique</th>\n",
       "      <td>13758</td>\n",
       "      <td>10488</td>\n",
       "    </tr>\n",
       "    <tr>\n",
       "      <th>top</th>\n",
       "      <td>amz_s4964</td>\n",
       "      <td>Mark Knight</td>\n",
       "    </tr>\n",
       "    <tr>\n",
       "      <th>freq</th>\n",
       "      <td>17</td>\n",
       "      <td>114</td>\n",
       "    </tr>\n",
       "  </tbody>\n",
       "</table>\n",
       "</div>"
      ],
      "text/plain": [
       "         title_id     director\n",
       "count       15212        15212\n",
       "unique      13758        10488\n",
       "top     amz_s4964  Mark Knight\n",
       "freq           17          114"
      ]
     },
     "execution_count": 10,
     "metadata": {},
     "output_type": "execute_result"
    }
   ],
   "source": [
    "# Criar dataset contendo os diretores e os filmes dirigidos por eles\n",
    "listaDiretores = extrairListaDeRelacionamento(dfFilmes,\"director\")\n",
    "dfDirector = pd.DataFrame(listaDiretores,columns = ['title_id', 'director'])\n",
    "dfDirector.to_csv(\"./analytics/directors_title.csv\",index=False)\n",
    "\n",
    "dfDirector.describe()"
   ]
  },
  {
   "cell_type": "code",
   "execution_count": 11,
   "id": "9425da2c-5602-4fca-9f91-87acdc8c30f2",
   "metadata": {},
   "outputs": [
    {
     "data": {
      "text/html": [
       "<div>\n",
       "<style scoped>\n",
       "    .dataframe tbody tr th:only-of-type {\n",
       "        vertical-align: middle;\n",
       "    }\n",
       "\n",
       "    .dataframe tbody tr th {\n",
       "        vertical-align: top;\n",
       "    }\n",
       "\n",
       "    .dataframe thead th {\n",
       "        text-align: right;\n",
       "    }\n",
       "</style>\n",
       "<table border=\"1\" class=\"dataframe\">\n",
       "  <thead>\n",
       "    <tr style=\"text-align: right;\">\n",
       "      <th></th>\n",
       "      <th>title_id</th>\n",
       "      <th>artist</th>\n",
       "    </tr>\n",
       "  </thead>\n",
       "  <tbody>\n",
       "    <tr>\n",
       "      <th>count</th>\n",
       "      <td>108493</td>\n",
       "      <td>108493</td>\n",
       "    </tr>\n",
       "    <tr>\n",
       "      <th>unique</th>\n",
       "      <td>16417</td>\n",
       "      <td>60761</td>\n",
       "    </tr>\n",
       "    <tr>\n",
       "      <th>top</th>\n",
       "      <td>amz_s4219</td>\n",
       "      <td>Anupam Kher</td>\n",
       "    </tr>\n",
       "    <tr>\n",
       "      <th>freq</th>\n",
       "      <td>76</td>\n",
       "      <td>59</td>\n",
       "    </tr>\n",
       "  </tbody>\n",
       "</table>\n",
       "</div>"
      ],
      "text/plain": [
       "         title_id       artist\n",
       "count      108493       108493\n",
       "unique      16417        60761\n",
       "top     amz_s4219  Anupam Kher\n",
       "freq           76           59"
      ]
     },
     "execution_count": 11,
     "metadata": {},
     "output_type": "execute_result"
    }
   ],
   "source": [
    "# Criar dataset contendo os artistas do elenco do filme\n",
    "listaArtistas = extrairListaDeRelacionamento(dfFilmes,\"cast\")\n",
    "dfCasting = pd.DataFrame(listaArtistas,columns = ['title_id', 'artist'])\n",
    "dfCasting.to_csv(\"./analytics/casting_title.csv\",index=False)\n",
    "\n",
    "dfCasting.describe()"
   ]
  },
  {
   "cell_type": "code",
   "execution_count": 12,
   "id": "e344334e-605a-40af-96fd-137c2f114cc5",
   "metadata": {},
   "outputs": [
    {
     "data": {
      "text/html": [
       "<div>\n",
       "<style scoped>\n",
       "    .dataframe tbody tr th:only-of-type {\n",
       "        vertical-align: middle;\n",
       "    }\n",
       "\n",
       "    .dataframe tbody tr th {\n",
       "        vertical-align: top;\n",
       "    }\n",
       "\n",
       "    .dataframe thead th {\n",
       "        text-align: right;\n",
       "    }\n",
       "</style>\n",
       "<table border=\"1\" class=\"dataframe\">\n",
       "  <thead>\n",
       "    <tr style=\"text-align: right;\">\n",
       "      <th></th>\n",
       "      <th>title_id</th>\n",
       "      <th>country</th>\n",
       "      <th>platform</th>\n",
       "    </tr>\n",
       "  </thead>\n",
       "  <tbody>\n",
       "    <tr>\n",
       "      <th>count</th>\n",
       "      <td>10843</td>\n",
       "      <td>10843</td>\n",
       "      <td>10843</td>\n",
       "    </tr>\n",
       "    <tr>\n",
       "      <th>unique</th>\n",
       "      <td>8648</td>\n",
       "      <td>125</td>\n",
       "      <td>2</td>\n",
       "    </tr>\n",
       "    <tr>\n",
       "      <th>top</th>\n",
       "      <td>nfx_s6234</td>\n",
       "      <td>United States</td>\n",
       "      <td>netflix</td>\n",
       "    </tr>\n",
       "    <tr>\n",
       "      <th>freq</th>\n",
       "      <td>12</td>\n",
       "      <td>4024</td>\n",
       "      <td>10019</td>\n",
       "    </tr>\n",
       "  </tbody>\n",
       "</table>\n",
       "</div>"
      ],
      "text/plain": [
       "         title_id        country platform\n",
       "count       10843          10843    10843\n",
       "unique       8648            125        2\n",
       "top     nfx_s6234  United States  netflix\n",
       "freq           12           4024    10019"
      ]
     },
     "execution_count": 12,
     "metadata": {},
     "output_type": "execute_result"
    }
   ],
   "source": [
    "# Criar o dataset de países relacionados ao filme\n",
    "listaPaises = extrairListaDeRelacionamento(dfFilmes,\"country\")\n",
    "dfCountries = pd.DataFrame(listaPaises,columns = ['title_id', 'country'])\n",
    "# Incluir no dataset dos países a plataforma\n",
    "dfCountries = dfCountries.merge(\n",
    "    dfFilmes.rename({'country': 'country_list'}, axis=1),\n",
    "    on='title_id',\n",
    "    how='left')[[\"title_id\",\"country\",\"platform\"]]\n",
    "\n",
    "dfCountries.to_csv(\"./analytics/countries_title.csv\",index=False)\n",
    "dfCountries.describe()"
   ]
  },
  {
   "cell_type": "code",
   "execution_count": 13,
   "id": "27a34e42-f5f0-4260-845e-9e0c454ed4fb",
   "metadata": {},
   "outputs": [
    {
     "data": {
      "text/html": [
       "<div>\n",
       "<style scoped>\n",
       "    .dataframe tbody tr th:only-of-type {\n",
       "        vertical-align: middle;\n",
       "    }\n",
       "\n",
       "    .dataframe tbody tr th {\n",
       "        vertical-align: top;\n",
       "    }\n",
       "\n",
       "    .dataframe thead th {\n",
       "        text-align: right;\n",
       "    }\n",
       "</style>\n",
       "<table border=\"1\" class=\"dataframe\">\n",
       "  <thead>\n",
       "    <tr style=\"text-align: right;\">\n",
       "      <th></th>\n",
       "      <th>title_id</th>\n",
       "      <th>category</th>\n",
       "    </tr>\n",
       "  </thead>\n",
       "  <tbody>\n",
       "    <tr>\n",
       "      <th>count</th>\n",
       "      <td>37632</td>\n",
       "      <td>37632</td>\n",
       "    </tr>\n",
       "    <tr>\n",
       "      <th>unique</th>\n",
       "      <td>18475</td>\n",
       "      <td>72</td>\n",
       "    </tr>\n",
       "    <tr>\n",
       "      <th>top</th>\n",
       "      <td>amz_s3619</td>\n",
       "      <td>Drama</td>\n",
       "    </tr>\n",
       "    <tr>\n",
       "      <th>freq</th>\n",
       "      <td>5</td>\n",
       "      <td>3687</td>\n",
       "    </tr>\n",
       "  </tbody>\n",
       "</table>\n",
       "</div>"
      ],
      "text/plain": [
       "         title_id category\n",
       "count       37632    37632\n",
       "unique      18475       72\n",
       "top     amz_s3619    Drama\n",
       "freq            5     3687"
      ]
     },
     "execution_count": 13,
     "metadata": {},
     "output_type": "execute_result"
    }
   ],
   "source": [
    "# Criar dataset das categorias as quais um filme foi classificado\n",
    "listaCategorias = extrairListaDeRelacionamento(dfFilmes,\"listed_in\")\n",
    "dfCategories = pd.DataFrame(listaCategorias,columns = ['title_id', 'category'])\n",
    "dfCategories.to_csv(\"./analytics/categories_title.csv\",index=False)\n",
    "\n",
    "dfCategories.describe()"
   ]
  },
  {
   "cell_type": "code",
   "execution_count": 14,
   "id": "ab0832c5-dadf-4b98-8731-f107cf478773",
   "metadata": {},
   "outputs": [],
   "source": [
    "# Função para converter a data de inclusão na plataforma para o formato ISO.\n",
    "# A função é necessário pois a função nativa do pandas.to_datetime não consegue converter a data no formato original pelo fato do dia ser \"zero-padding\"\n",
    "def converterData(data:str):\n",
    "    try:\n",
    "        mesDia,ano = data.split(\", \")\n",
    "        mes,dia = mesDia.split(\" \")\n",
    "        dataTexto =  f\"{mes} {dia.zfill(2)}, {ano}\"\n",
    "        novaData = datetime.strptime(dataTexto,\"%B %d, %Y\")\n",
    "        return novaData.strftime(\"%Y-%m-%d\")\n",
    "    except Exception as e:\n",
    "        pass"
   ]
  },
  {
   "cell_type": "code",
   "execution_count": 15,
   "id": "e7078ef6-facf-4c81-8c51-aeee1df3b68e",
   "metadata": {},
   "outputs": [
    {
     "data": {
      "text/html": [
       "<div>\n",
       "<style scoped>\n",
       "    .dataframe tbody tr th:only-of-type {\n",
       "        vertical-align: middle;\n",
       "    }\n",
       "\n",
       "    .dataframe tbody tr th {\n",
       "        vertical-align: top;\n",
       "    }\n",
       "\n",
       "    .dataframe thead th {\n",
       "        text-align: right;\n",
       "    }\n",
       "</style>\n",
       "<table border=\"1\" class=\"dataframe\">\n",
       "  <thead>\n",
       "    <tr style=\"text-align: right;\">\n",
       "      <th></th>\n",
       "      <th>release_year</th>\n",
       "    </tr>\n",
       "  </thead>\n",
       "  <tbody>\n",
       "    <tr>\n",
       "      <th>count</th>\n",
       "      <td>18475.000000</td>\n",
       "    </tr>\n",
       "    <tr>\n",
       "      <th>mean</th>\n",
       "      <td>2011.124980</td>\n",
       "    </tr>\n",
       "    <tr>\n",
       "      <th>std</th>\n",
       "      <td>15.262484</td>\n",
       "    </tr>\n",
       "    <tr>\n",
       "      <th>min</th>\n",
       "      <td>1920.000000</td>\n",
       "    </tr>\n",
       "    <tr>\n",
       "      <th>25%</th>\n",
       "      <td>2011.000000</td>\n",
       "    </tr>\n",
       "    <tr>\n",
       "      <th>50%</th>\n",
       "      <td>2017.000000</td>\n",
       "    </tr>\n",
       "    <tr>\n",
       "      <th>75%</th>\n",
       "      <td>2019.000000</td>\n",
       "    </tr>\n",
       "    <tr>\n",
       "      <th>max</th>\n",
       "      <td>2021.000000</td>\n",
       "    </tr>\n",
       "  </tbody>\n",
       "</table>\n",
       "</div>"
      ],
      "text/plain": [
       "       release_year\n",
       "count  18475.000000\n",
       "mean    2011.124980\n",
       "std       15.262484\n",
       "min     1920.000000\n",
       "25%     2011.000000\n",
       "50%     2017.000000\n",
       "75%     2019.000000\n",
       "max     2021.000000"
      ]
     },
     "execution_count": 15,
     "metadata": {},
     "output_type": "execute_result"
    }
   ],
   "source": [
    "# Converter a data de inclusão na plataforma paratodos os registros do dataset\n",
    "dfFilmes[\"date_added\"] = dfFilmes[\"date_added\"].apply(converterData)\n",
    "dfFilmes.describe()"
   ]
  },
  {
   "cell_type": "code",
   "execution_count": 16,
   "id": "f24654fd-fc6b-480c-a1b3-11389328206c",
   "metadata": {},
   "outputs": [],
   "source": [
    "#Excluir colunas de lista que foram convertidas em datasets de relacionamento\n",
    "novoDfFilmes = dfFilmes.drop(columns=[\"director\",\"cast\",\"country\",\"listed_in\"])\n",
    "\n",
    "#Salvar novo dataset de filmes unificado\n",
    "novoDfFilmes.to_csv(\"./analytics/titles.csv\",index=False)"
   ]
  },
  {
   "cell_type": "code",
   "execution_count": null,
   "id": "766f2c92-5d34-4b43-a2c8-ad66328fc3e4",
   "metadata": {},
   "outputs": [],
   "source": []
  }
 ],
 "metadata": {
  "kernelspec": {
   "display_name": "Python 3 (ipykernel)",
   "language": "python",
   "name": "python3"
  },
  "language_info": {
   "codemirror_mode": {
    "name": "ipython",
    "version": 3
   },
   "file_extension": ".py",
   "mimetype": "text/x-python",
   "name": "python",
   "nbconvert_exporter": "python",
   "pygments_lexer": "ipython3",
   "version": "3.11.4"
  }
 },
 "nbformat": 4,
 "nbformat_minor": 5
}
