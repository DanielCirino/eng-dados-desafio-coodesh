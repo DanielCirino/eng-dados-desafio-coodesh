{
 "cells": [
  {
   "cell_type": "markdown",
   "id": "2ef0b95d-179c-4207-abd8-3810ebe1529c",
   "metadata": {},
   "source": [
    "# Resolução desafio Coodesh\n",
    "Utilização linguagem Python, utilizando Pandas"
   ]
  },
  {
   "cell_type": "code",
   "execution_count": 1,
   "id": "4d52d342-dbb4-402d-8ce4-8be7af077a40",
   "metadata": {},
   "outputs": [],
   "source": [
    "from datetime import datetime\n",
    "import pandas as pd"
   ]
  },
  {
   "cell_type": "markdown",
   "id": "00e70067-cedc-4a97-95bf-26d8b95a48f6",
   "metadata": {},
   "source": [
    "## Atributos dos datasets"
   ]
  },
  {
   "cell_type": "code",
   "execution_count": 3,
   "id": "bd236ee8-0e48-464b-aab4-88ba4f87847f",
   "metadata": {},
   "outputs": [
    {
     "data": {
      "text/html": [
       "<div>\n",
       "<style scoped>\n",
       "    .dataframe tbody tr th:only-of-type {\n",
       "        vertical-align: middle;\n",
       "    }\n",
       "\n",
       "    .dataframe tbody tr th {\n",
       "        vertical-align: top;\n",
       "    }\n",
       "\n",
       "    .dataframe thead th {\n",
       "        text-align: right;\n",
       "    }\n",
       "</style>\n",
       "<table border=\"1\" class=\"dataframe\">\n",
       "  <thead>\n",
       "    <tr style=\"text-align: right;\">\n",
       "      <th></th>\n",
       "      <th>seq</th>\n",
       "      <th>name</th>\n",
       "      <th>description</th>\n",
       "    </tr>\n",
       "  </thead>\n",
       "  <tbody>\n",
       "    <tr>\n",
       "      <th>0</th>\n",
       "      <td>1</td>\n",
       "      <td>show_id</td>\n",
       "      <td>Unique ID for every Movie / Tv Show</td>\n",
       "    </tr>\n",
       "    <tr>\n",
       "      <th>1</th>\n",
       "      <td>2</td>\n",
       "      <td>type</td>\n",
       "      <td>Identifier - A Movie or TV Show</td>\n",
       "    </tr>\n",
       "    <tr>\n",
       "      <th>2</th>\n",
       "      <td>3</td>\n",
       "      <td>title</td>\n",
       "      <td>Title of the Movie / Tv Show</td>\n",
       "    </tr>\n",
       "    <tr>\n",
       "      <th>3</th>\n",
       "      <td>4</td>\n",
       "      <td>director</td>\n",
       "      <td>Director of the Movie</td>\n",
       "    </tr>\n",
       "    <tr>\n",
       "      <th>4</th>\n",
       "      <td>5</td>\n",
       "      <td>cast</td>\n",
       "      <td>Actors involved in the movie / show</td>\n",
       "    </tr>\n",
       "    <tr>\n",
       "      <th>5</th>\n",
       "      <td>6</td>\n",
       "      <td>country</td>\n",
       "      <td>Country where the movie / show was produced</td>\n",
       "    </tr>\n",
       "    <tr>\n",
       "      <th>6</th>\n",
       "      <td>7</td>\n",
       "      <td>data_added</td>\n",
       "      <td>Date it was added on Netflix or Amazon Prime</td>\n",
       "    </tr>\n",
       "    <tr>\n",
       "      <th>7</th>\n",
       "      <td>8</td>\n",
       "      <td>release_year</td>\n",
       "      <td>Actual Release year of the move / show</td>\n",
       "    </tr>\n",
       "    <tr>\n",
       "      <th>8</th>\n",
       "      <td>9</td>\n",
       "      <td>rating</td>\n",
       "      <td>TV Rating of the movie / show</td>\n",
       "    </tr>\n",
       "    <tr>\n",
       "      <th>9</th>\n",
       "      <td>10</td>\n",
       "      <td>duration</td>\n",
       "      <td>Total Duration - in minutes or number of seasons</td>\n",
       "    </tr>\n",
       "    <tr>\n",
       "      <th>10</th>\n",
       "      <td>11</td>\n",
       "      <td>listed_in *</td>\n",
       "      <td>Categoies that movie/show was listed</td>\n",
       "    </tr>\n",
       "    <tr>\n",
       "      <th>11</th>\n",
       "      <td>12</td>\n",
       "      <td>description *</td>\n",
       "      <td>Resumo of movie/show</td>\n",
       "    </tr>\n",
       "  </tbody>\n",
       "</table>\n",
       "</div>"
      ],
      "text/plain": [
       "    seq           name                                       description\n",
       "0     1        show_id               Unique ID for every Movie / Tv Show\n",
       "1     2           type                   Identifier - A Movie or TV Show\n",
       "2     3          title                      Title of the Movie / Tv Show\n",
       "3     4       director                             Director of the Movie\n",
       "4     5           cast               Actors involved in the movie / show\n",
       "5     6        country       Country where the movie / show was produced\n",
       "6     7     data_added     Date it was added on Netflix or Amazon Prime \n",
       "7     8   release_year            Actual Release year of the move / show\n",
       "8     9         rating                    TV Rating of the movie / show \n",
       "9    10       duration  Total Duration - in minutes or number of seasons\n",
       "10   11    listed_in *              Categoies that movie/show was listed\n",
       "11   12  description *                              Resumo of movie/show"
      ]
     },
     "execution_count": 3,
     "metadata": {},
     "output_type": "execute_result"
    }
   ],
   "source": [
    "dfAtributos = pd.read_csv(\"./analytics/dataset_info.csv\")\n",
    "dfAtributos"
   ]
  },
  {
   "cell_type": "markdown",
   "id": "853a354f-a36e-419d-9de9-8776b7c9bc37",
   "metadata": {},
   "source": [
    "(*) Ao comparar o arquivo attributes.txt com o dataset de filmes, foi possível identificar que faltavam colunas no arquivo de atributos. Foi feita a identificação dos campos e atualizada a documentação."
   ]
  },
  {
   "cell_type": "markdown",
   "id": "793dc93b-63f3-44a9-9332-7b913bd70d4c",
   "metadata": {},
   "source": [
    "## Carregar os arquivos"
   ]
  },
  {
   "cell_type": "code",
   "execution_count": null,
   "id": "ab97d5de-a246-446c-9343-1095472dff1f",
   "metadata": {},
   "outputs": [],
   "source": [
    "dfFilmesNetflix = pd.read_csv(\"./data/netflix_titles.csv\")\n",
    "dfFilmesNetflix.info()"
   ]
  },
  {
   "cell_type": "code",
   "execution_count": null,
   "id": "5a47fdf8-c559-4441-ac84-f76b3aa92cbb",
   "metadata": {},
   "outputs": [],
   "source": [
    "dfFilmesAmazon = pd.read_csv(\"./data/amazon_prime_titles.csv\")\n",
    "dfFilmesAmazon.info()"
   ]
  },
  {
   "cell_type": "markdown",
   "id": "db8a27f1-2e6a-4053-a9ed-255e11b1f1cf",
   "metadata": {},
   "source": [
    "# Gerar um dataset unificado de filmes das duas plataformas"
   ]
  },
  {
   "cell_type": "code",
   "execution_count": null,
   "id": "3157c5db-00ea-4678-ad9c-5f5d8c69fad8",
   "metadata": {},
   "outputs": [],
   "source": [
    "# Como o campo show_id se repete em cada plataforma, \n",
    "# será necessário garantir que exista um código identificador único para cada dataset\n",
    "# Para não perder a referência da plataforma, é necessário criar uma coluna com esta informação em cada dataframe\n",
    "\n",
    "dfFilmesNetflix[\"title_id\"] = \"nfx_\" + dfFilmesNetflix[\"show_id\"]\n",
    "dfFilmesNetflix[\"platform\"] = \"netflix\"\n",
    "\n",
    "dfFilmesAmazon[\"title_id\"] = \"amz_\" + dfFilmesAmazon[\"show_id\"]\n",
    "dfFilmesAmazon[\"platform\"] = \"amazon_prime\" \n",
    "\n",
    "dfFilmesNetflix.info()"
   ]
  },
  {
   "cell_type": "code",
   "execution_count": null,
   "id": "840300f2-abe8-4901-8721-da6043c2169c",
   "metadata": {},
   "outputs": [],
   "source": [
    "dfFilmesAmazon.info()"
   ]
  },
  {
   "cell_type": "code",
   "execution_count": null,
   "id": "06025110-6dbf-4c90-b08b-c2c66132495a",
   "metadata": {},
   "outputs": [],
   "source": [
    "# Criar base de filmes unificada, contendo os filmes das duas plataformas\n",
    "dfFilmes = pd.concat([dfFilmesNetflix, dfFilmesAmazon],ignore_index=True)\n",
    "dfFilmes.info()"
   ]
  },
  {
   "cell_type": "markdown",
   "id": "8c0b47fe-f26b-4a4f-82b3-8584c7226419",
   "metadata": {},
   "source": [
    "## Fazer o processamento do dataset unificado\n",
    "\n",
    "Para modelagem dos dados, é necessário transformar as colunas que o conteúdo representa uma lista, em um arquivos de dados que conterá o relacionamento com o identificador do título.\n",
    "\n",
    "* director -> directors_title.csv\n",
    "* cast -> casting_title.csv\n",
    "* listed_in -> categories_title.csv\n",
    "* country -> countries_title.csv\n",
    "\n",
    "Para facilitar o trabalho com data, o campo date_added precisa ser convertido para o formato YYYY-MM-DD. "
   ]
  },
  {
   "cell_type": "code",
   "execution_count": null,
   "id": "9c4e4277-701e-40b3-8de8-2e34b46149ce",
   "metadata": {},
   "outputs": [],
   "source": [
    "# Função para extrair os valores dos campos que apresentam lista e relacionar ao id do título\n",
    "def extrairListaDeRelacionamento(df:pd.DataFrame, coluna:str, camposExtras=[]):\n",
    "    lista = []\n",
    "    for index,linha in df.iterrows():\n",
    "        if not pd.isna(linha[coluna]):\n",
    "            id = linha[\"title_id\"]\n",
    "            itens = str(linha[coluna]).split(\",\")\n",
    "            for item in itens:\n",
    "                lista.append([id,item.strip()])\n",
    "    return lista"
   ]
  },
  {
   "cell_type": "code",
   "execution_count": null,
   "id": "3fe154b0-07a2-4f61-aebd-591bd945015a",
   "metadata": {},
   "outputs": [],
   "source": [
    "dfFilmes[dfFilmes['title_id'].duplicated() == True].info()"
   ]
  },
  {
   "cell_type": "code",
   "execution_count": null,
   "id": "0068193d-1e55-425c-bd0a-951d699b6fba",
   "metadata": {},
   "outputs": [],
   "source": [
    "listaDiretores = extrairListaDeRelacionamento(dfFilmes,\"director\")\n",
    "dfDirector = pd.DataFrame(listaDiretores,columns = ['title_id', 'director'])\n",
    "dfDirector.to_csv(\"./analytics/directors_title.csv\",index=False)\n",
    "\n",
    "dfDirector.describe()"
   ]
  },
  {
   "cell_type": "code",
   "execution_count": null,
   "id": "9425da2c-5602-4fca-9f91-87acdc8c30f2",
   "metadata": {},
   "outputs": [],
   "source": [
    "listaArtistas = extrairListaDeRelacionamento(dfFilmes,\"cast\")\n",
    "dfCasting = pd.DataFrame(listaArtistas,columns = ['title_id', 'artist'])\n",
    "dfCasting.to_csv(\"./analytics/casting_title.csv\",index=False)\n",
    "\n",
    "dfCasting.describe()"
   ]
  },
  {
   "cell_type": "code",
   "execution_count": null,
   "id": "e344334e-605a-40af-96fd-137c2f114cc5",
   "metadata": {},
   "outputs": [],
   "source": [
    "listaPaises = extrairListaDeRelacionamento(dfFilmes,\"country\")\n",
    "dfCountries = pd.DataFrame(listaPaises,columns = ['title_id', 'country'])\n",
    "# Incluir no dataset dos países a plataforma\n",
    "dfCountries = dfCountries.merge(\n",
    "    dfFilmes.rename({'country': 'country_list'}, axis=1),\n",
    "    on='title_id',\n",
    "    how='left')[[\"title_id\",\"country\",\"platform\"]]\n",
    "\n",
    "dfCountries.to_csv(\"./analytics/countries_title.csv\",index=False)\n",
    "dfCountries.describe()"
   ]
  },
  {
   "cell_type": "code",
   "execution_count": null,
   "id": "27a34e42-f5f0-4260-845e-9e0c454ed4fb",
   "metadata": {},
   "outputs": [],
   "source": [
    "listaCategorias = extrairListaDeRelacionamento(dfFilmes,\"listed_in\")\n",
    "dfCategories = pd.DataFrame(listaCategorias,columns = ['title_id', 'category'])\n",
    "dfCategories.to_csv(\"./analytics/categories_title.csv\",index=False)\n",
    "\n",
    "dfCategories.describe()"
   ]
  },
  {
   "cell_type": "code",
   "execution_count": null,
   "id": "ab0832c5-dadf-4b98-8731-f107cf478773",
   "metadata": {},
   "outputs": [],
   "source": [
    "def converterData(data:str):\n",
    "    try:\n",
    "        mesDia,ano = data.split(\", \")\n",
    "        mes,dia = mesDia.split(\" \")\n",
    "        dataTexto =  f\"{mes} {dia.zfill(2)}, {ano}\"\n",
    "        novaData = datetime.strptime(dataTexto,\"%B %d, %Y\")\n",
    "        return novaData.strftime(\"%Y-%m-%d\")\n",
    "    except Exception as e:\n",
    "        pass"
   ]
  },
  {
   "cell_type": "code",
   "execution_count": null,
   "id": "e7078ef6-facf-4c81-8c51-aeee1df3b68e",
   "metadata": {},
   "outputs": [],
   "source": [
    "dfFilmes[\"date_added\"] = dfFilmes[\"date_added\"].apply(converterData)\n",
    "dfFilmes.describe()"
   ]
  },
  {
   "cell_type": "code",
   "execution_count": null,
   "id": "f24654fd-fc6b-480c-a1b3-11389328206c",
   "metadata": {},
   "outputs": [],
   "source": [
    "#Excluir colunas de lista\n",
    "novoDfFilmes = dfFilmes.drop(columns=[\"director\",\"cast\",\"country\",\"listed_in\"])\n",
    "#Salvar novo dataset de filmes unificado\n",
    "novoDfFilmes.to_csv(\"./analytics/titles.csv\",index=False)"
   ]
  },
  {
   "cell_type": "code",
   "execution_count": null,
   "id": "766f2c92-5d34-4b43-a2c8-ad66328fc3e4",
   "metadata": {},
   "outputs": [],
   "source": []
  }
 ],
 "metadata": {
  "kernelspec": {
   "display_name": "Python 3 (ipykernel)",
   "language": "python",
   "name": "python3"
  },
  "language_info": {
   "codemirror_mode": {
    "name": "ipython",
    "version": 3
   },
   "file_extension": ".py",
   "mimetype": "text/x-python",
   "name": "python",
   "nbconvert_exporter": "python",
   "pygments_lexer": "ipython3",
   "version": "3.11.4"
  }
 },
 "nbformat": 4,
 "nbformat_minor": 5
}
