{
 "cells": [
  {
   "cell_type": "code",
   "execution_count": 1,
   "id": "90e0215f-49a8-4820-bb9b-8dc1d67aa2a1",
   "metadata": {},
   "outputs": [],
   "source": [
    "import pandas as pd\n",
    "import numpy as np\n",
    "import seaborn as sns\n",
    "import matplotlib.pyplot as plt"
   ]
  },
  {
   "cell_type": "code",
   "execution_count": 2,
   "id": "d442e597-291a-4d5b-9b94-83ad131e17e5",
   "metadata": {},
   "outputs": [],
   "source": [
    "%matplotlib inline\n",
    "sns.set_theme(style=\"darkgrid\")\n",
    "\n",
    "DIR_DATASETS = r\"./data/analytics\"\n",
    "\n",
    "dfFilmes = pd.read_csv(f\"{DIR_DATASETS}/titles.csv\")\n",
    "dfElenco = pd.read_csv(f\"{DIR_DATASETS}/casting_title.csv\")\n",
    "dfPaises = pd.read_csv(f\"{DIR_DATASETS}/countries_title.csv\")\n",
    "dfCategorias = pd.read_csv(f\"{DIR_DATASETS}/categories_title.csv\")"
   ]
  },
  {
   "cell_type": "code",
   "execution_count": 3,
   "id": "0d15ae9e-d499-4eee-b12c-70910f099c4c",
   "metadata": {},
   "outputs": [
    {
     "name": "stdout",
     "output_type": "stream",
     "text": [
      "<class 'pandas.core.frame.DataFrame'>\n",
      "RangeIndex: 18475 entries, 0 to 18474\n",
      "Data columns (total 10 columns):\n",
      " #   Column        Non-Null Count  Dtype \n",
      "---  ------        --------------  ----- \n",
      " 0   show_id       18475 non-null  object\n",
      " 1   type          18475 non-null  object\n",
      " 2   title         18475 non-null  object\n",
      " 3   date_added    8864 non-null   object\n",
      " 4   release_year  18475 non-null  int64 \n",
      " 5   rating        18134 non-null  object\n",
      " 6   duration      18472 non-null  object\n",
      " 7   description   18475 non-null  object\n",
      " 8   title_id      18475 non-null  object\n",
      " 9   platform      18475 non-null  object\n",
      "dtypes: int64(1), object(9)\n",
      "memory usage: 1.4+ MB\n"
     ]
    }
   ],
   "source": [
    "\n",
    "dfFilmes.info()"
   ]
  },
  {
   "cell_type": "code",
   "execution_count": 5,
   "id": "f46d141c-127a-4d9b-9965-187278e11b98",
   "metadata": {},
   "outputs": [
    {
     "name": "stdout",
     "output_type": "stream",
     "text": [
      "<class 'pandas.core.frame.DataFrame'>\n",
      "RangeIndex: 108493 entries, 0 to 108492\n",
      "Data columns (total 2 columns):\n",
      " #   Column    Non-Null Count   Dtype \n",
      "---  ------    --------------   ----- \n",
      " 0   title_id  108493 non-null  object\n",
      " 1   artist    108490 non-null  object\n",
      "dtypes: object(2)\n",
      "memory usage: 1.7+ MB\n"
     ]
    }
   ],
   "source": [
    "dfElenco.info()"
   ]
  },
  {
   "cell_type": "code",
   "execution_count": 7,
   "id": "4cda78a6-31ad-44bb-a386-c492b8b6ae32",
   "metadata": {},
   "outputs": [
    {
     "data": {
      "text/plain": [
       "artist\n",
       "Anupam Kher         59\n",
       "Maggie Binkley      56\n",
       "Amitabh Bachchan    47\n",
       "Shah Rukh Khan      46\n",
       "Nassar              43\n",
       "Akshay Kumar        41\n",
       "Danny Trejo         39\n",
       "Naseeruddin Shah    39\n",
       "Paresh Rawal        39\n",
       "1                   35\n",
       "Name: artist, dtype: int64"
      ]
     },
     "execution_count": 7,
     "metadata": {},
     "output_type": "execute_result"
    }
   ],
   "source": [
    "top10Atores = dfElenco.groupby([\"artist\"])[\"artist\"].count().nlargest(10)\n",
    "top10Atores"
   ]
  },
  {
   "cell_type": "code",
   "execution_count": 10,
   "id": "70166dda-3c90-49f0-94f9-6378228e7322",
   "metadata": {},
   "outputs": [
    {
     "data": {
      "text/html": [
       "<div>\n",
       "<style scoped>\n",
       "    .dataframe tbody tr th:only-of-type {\n",
       "        vertical-align: middle;\n",
       "    }\n",
       "\n",
       "    .dataframe tbody tr th {\n",
       "        vertical-align: top;\n",
       "    }\n",
       "\n",
       "    .dataframe thead tr th {\n",
       "        text-align: left;\n",
       "    }\n",
       "\n",
       "    .dataframe thead tr:last-of-type th {\n",
       "        text-align: right;\n",
       "    }\n",
       "</style>\n",
       "<table border=\"1\" class=\"dataframe\">\n",
       "  <thead>\n",
       "    <tr>\n",
       "      <th></th>\n",
       "      <th colspan=\"3\" halign=\"left\">title_id</th>\n",
       "    </tr>\n",
       "    <tr>\n",
       "      <th>platform</th>\n",
       "      <th>amazon_prime</th>\n",
       "      <th>netflix</th>\n",
       "      <th>total</th>\n",
       "    </tr>\n",
       "    <tr>\n",
       "      <th>country</th>\n",
       "      <th></th>\n",
       "      <th></th>\n",
       "      <th></th>\n",
       "    </tr>\n",
       "  </thead>\n",
       "  <tbody>\n",
       "    <tr>\n",
       "      <th>total</th>\n",
       "      <td>824</td>\n",
       "      <td>10012</td>\n",
       "      <td>10836</td>\n",
       "    </tr>\n",
       "    <tr>\n",
       "      <th>United States</th>\n",
       "      <td>334</td>\n",
       "      <td>3690</td>\n",
       "      <td>4024</td>\n",
       "    </tr>\n",
       "    <tr>\n",
       "      <th>India</th>\n",
       "      <td>246</td>\n",
       "      <td>1046</td>\n",
       "      <td>1292</td>\n",
       "    </tr>\n",
       "    <tr>\n",
       "      <th>United Kingdom</th>\n",
       "      <td>67</td>\n",
       "      <td>806</td>\n",
       "      <td>873</td>\n",
       "    </tr>\n",
       "    <tr>\n",
       "      <th>Canada</th>\n",
       "      <td>35</td>\n",
       "      <td>445</td>\n",
       "      <td>480</td>\n",
       "    </tr>\n",
       "  </tbody>\n",
       "</table>\n",
       "</div>"
      ],
      "text/plain": [
       "                   title_id               \n",
       "platform       amazon_prime netflix  total\n",
       "country                                   \n",
       "total                   824   10012  10836\n",
       "United States           334    3690   4024\n",
       "India                   246    1046   1292\n",
       "United Kingdom           67     806    873\n",
       "Canada                   35     445    480"
      ]
     },
     "execution_count": 10,
     "metadata": {},
     "output_type": "execute_result"
    }
   ],
   "source": [
    "producoesPorPaisPlataforma = pd.pivot_table(\n",
    "    dfPaises,\n",
    "    values=[\"title_id\"],\n",
    "    index=[\"country\"],\n",
    "    columns=[\"platform\"],aggfunc=\"count\",fill_value=0, margins = True, margins_name='total')\n",
    "\n",
    "producoesPorPaisPlataforma.nlargest(5,[('title_id','total')])"
   ]
  },
  {
   "cell_type": "code",
   "execution_count": 11,
   "id": "b9f389f1-3837-4fe3-8847-adee36ca58a6",
   "metadata": {},
   "outputs": [
    {
     "data": {
      "text/html": [
       "<div>\n",
       "<style scoped>\n",
       "    .dataframe tbody tr th:only-of-type {\n",
       "        vertical-align: middle;\n",
       "    }\n",
       "\n",
       "    .dataframe tbody tr th {\n",
       "        vertical-align: top;\n",
       "    }\n",
       "\n",
       "    .dataframe thead th {\n",
       "        text-align: right;\n",
       "    }\n",
       "</style>\n",
       "<table border=\"1\" class=\"dataframe\">\n",
       "  <thead>\n",
       "    <tr style=\"text-align: right;\">\n",
       "      <th></th>\n",
       "      <th></th>\n",
       "      <th>title_id</th>\n",
       "    </tr>\n",
       "    <tr>\n",
       "      <th>country</th>\n",
       "      <th>platform</th>\n",
       "      <th></th>\n",
       "    </tr>\n",
       "  </thead>\n",
       "  <tbody>\n",
       "    <tr>\n",
       "      <th rowspan=\"2\" valign=\"top\">Afghanistan</th>\n",
       "      <th>amazon_prime</th>\n",
       "      <td>1</td>\n",
       "    </tr>\n",
       "    <tr>\n",
       "      <th>netflix</th>\n",
       "      <td>1</td>\n",
       "    </tr>\n",
       "    <tr>\n",
       "      <th rowspan=\"2\" valign=\"top\">Albania</th>\n",
       "      <th>amazon_prime</th>\n",
       "      <td>1</td>\n",
       "    </tr>\n",
       "    <tr>\n",
       "      <th>netflix</th>\n",
       "      <td>1</td>\n",
       "    </tr>\n",
       "    <tr>\n",
       "      <th>Algeria</th>\n",
       "      <th>netflix</th>\n",
       "      <td>3</td>\n",
       "    </tr>\n",
       "    <tr>\n",
       "      <th>...</th>\n",
       "      <th>...</th>\n",
       "      <td>...</td>\n",
       "    </tr>\n",
       "    <tr>\n",
       "      <th>Vatican City</th>\n",
       "      <th>netflix</th>\n",
       "      <td>1</td>\n",
       "    </tr>\n",
       "    <tr>\n",
       "      <th>Venezuela</th>\n",
       "      <th>netflix</th>\n",
       "      <td>4</td>\n",
       "    </tr>\n",
       "    <tr>\n",
       "      <th>Vietnam</th>\n",
       "      <th>netflix</th>\n",
       "      <td>7</td>\n",
       "    </tr>\n",
       "    <tr>\n",
       "      <th>West Germany</th>\n",
       "      <th>netflix</th>\n",
       "      <td>5</td>\n",
       "    </tr>\n",
       "    <tr>\n",
       "      <th>Zimbabwe</th>\n",
       "      <th>netflix</th>\n",
       "      <td>3</td>\n",
       "    </tr>\n",
       "  </tbody>\n",
       "</table>\n",
       "<p>167 rows × 1 columns</p>\n",
       "</div>"
      ],
      "text/plain": [
       "                           title_id\n",
       "country      platform              \n",
       "Afghanistan  amazon_prime         1\n",
       "             netflix              1\n",
       "Albania      amazon_prime         1\n",
       "             netflix              1\n",
       "Algeria      netflix              3\n",
       "...                             ...\n",
       "Vatican City netflix              1\n",
       "Venezuela    netflix              4\n",
       "Vietnam      netflix              7\n",
       "West Germany netflix              5\n",
       "Zimbabwe     netflix              3\n",
       "\n",
       "[167 rows x 1 columns]"
      ]
     },
     "execution_count": 11,
     "metadata": {},
     "output_type": "execute_result"
    }
   ],
   "source": [
    "df = dfPaises.groupby([\"country\",\"platform\"]).count()\n",
    "df"
   ]
  },
  {
   "cell_type": "code",
   "execution_count": null,
   "id": "a791950f-ba41-451c-a376-63cfbd5aa166",
   "metadata": {},
   "outputs": [],
   "source": [
    "dfFilmesPorAno = dfFilmes.groupby(['release_year'], as_index=False)['id'].count()\n",
    "f, ax = plt.subplots(figsize=(10, 5))\n",
    "\n",
    "ax = sns.lineplot(x='release_year',y='id',data=dfFilmesPorAno,markers=True, dashes=False)\n",
    "ax.set_title('Filmes por ano de lançamento')\n",
    "ax.set_xlabel('Ano')\n",
    "ax.set_ylabel('Quantidade')\n",
    "ax.plot()\n",
    "\n",
    "dfFilmesPorAno"
   ]
  }
 ],
 "metadata": {
  "kernelspec": {
   "display_name": "Python 3 (ipykernel)",
   "language": "python",
   "name": "python3"
  },
  "language_info": {
   "codemirror_mode": {
    "name": "ipython",
    "version": 3
   },
   "file_extension": ".py",
   "mimetype": "text/x-python",
   "name": "python",
   "nbconvert_exporter": "python",
   "pygments_lexer": "ipython3",
   "version": "3.11.4"
  }
 },
 "nbformat": 4,
 "nbformat_minor": 5
}
